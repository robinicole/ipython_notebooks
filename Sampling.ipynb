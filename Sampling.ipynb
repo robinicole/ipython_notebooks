{
 "cells": [
  {
   "cell_type": "markdown",
   "metadata": {},
   "source": [
    "# Metropolis sampling "
   ]
  },
  {
   "cell_type": "code",
   "execution_count": 1,
   "metadata": {
    "ExecuteTime": {
     "end_time": "2021-01-16T13:40:50.761367Z",
     "start_time": "2021-01-16T13:40:50.754744Z"
    }
   },
   "outputs": [],
   "source": [
    "def unnormalized_beta(alpha, beta):\n",
    "    def beta_f(x):\n",
    "        if x < 0:\n",
    "            return 0\n",
    "        if x >1:\n",
    "            return 0\n",
    "        return x**(alpha-1) * (1-x)**(beta - 1)\n",
    "    return beta_f"
   ]
  },
  {
   "cell_type": "code",
   "execution_count": 18,
   "metadata": {
    "ExecuteTime": {
     "end_time": "2021-01-16T13:46:59.747483Z",
     "start_time": "2021-01-16T13:46:59.735614Z"
    }
   },
   "outputs": [],
   "source": [
    "import numpy as np\n",
    "def metropolis_sampler_base(\n",
    "    unnormalized_pdf=unnormalized_beta(2, 3), \n",
    "    n_sample=100, x_0=0.5\n",
    "):\n",
    "    '''\n",
    "    Sample from an unnormalized distribution with the Metropolis Algorihm\n",
    "    Args: \n",
    "        unnormalized_pdf: the unnormalized pdf we want to sample from \n",
    "        n_sample: the size of the sample to output\n",
    "        x_0: the starting point of the algo\n",
    "    '''\n",
    "    x = x_0\n",
    "    sample = [x]\n",
    "    for _ in range(n_sample):\n",
    "        x_prop = np.random.normal(loc=x)\n",
    "        unif = np.random.uniform()\n",
    "        acceptance_ratio = unnormalized_pdf(x_prop)/unnormalized_pdf(x)\n",
    "        if acceptance_ratio > unif:\n",
    "            x = x_prop\n",
    "        sample.append(x)\n",
    "    return sample\n",
    "\n",
    "def metropolis_sampler_faster(unnormalized_pdf=unnormalized_beta(2, 3), n_sample=100, x_0=0.5):\n",
    "    '''\n",
    "    Metropolis sampler, faster than the first version\n",
    "    because all the random number are generated before the for loop\n",
    "    Args: \n",
    "        unnormalized_pdf: the unnormalized pdf we want to sample from \n",
    "        n_sample: the size of the sample to output\n",
    "        x_0: the starting point of the algo\n",
    "    Possible things to improve:\n",
    "    directly provide the acceptance ratio instead of having to compute the \n",
    "    ratio every time\n",
    "    '''\n",
    "    x= x_0\n",
    "    sample = [x]\n",
    "    random_numbers = np.random.normal(size=n_sample)\n",
    "    unif_nums = np.random.uniform(size=n_sample)\n",
    "    for rnum, unif in zip(random_numbers, unif_nums):\n",
    "        x_prop = x + rnum\n",
    "        acceptance_ratio = unnormalized_pdf(x_prop)/unnormalized_pdf(x)\n",
    "        if acceptance_ratio > unif:\n",
    "            x = x_prop\n",
    "        sample.append(x)\n",
    "    return sample"
   ]
  },
  {
   "cell_type": "code",
   "execution_count": 19,
   "metadata": {
    "ExecuteTime": {
     "end_time": "2021-01-16T13:47:10.406213Z",
     "start_time": "2021-01-16T13:47:00.264870Z"
    }
   },
   "outputs": [
    {
     "name": "stdout",
     "output_type": "stream",
     "text": [
      "463 ms ± 36 ms per loop (mean ± std. dev. of 7 runs, 1 loop each)\n",
      "803 ms ± 83.7 ms per loop (mean ± std. dev. of 7 runs, 1 loop each)\n"
     ]
    }
   ],
   "source": [
    "%timeit metropolis_sampler_faster(n_sample=10**5)\n",
    "%timeit metropolis_sampler_base(n_sample=10**5)"
   ]
  },
  {
   "cell_type": "code",
   "execution_count": 20,
   "metadata": {
    "ExecuteTime": {
     "end_time": "2021-01-16T13:47:21.136923Z",
     "start_time": "2021-01-16T13:47:19.373986Z"
    }
   },
   "outputs": [
    {
     "data": {
      "text/plain": [
       "[<matplotlib.lines.Line2D at 0x11e19b280>]"
      ]
     },
     "execution_count": 20,
     "metadata": {},
     "output_type": "execute_result"
    },
    {
     "data": {
      "image/png": "[encoded data removed]",
      "text/plain": [
       "<Figure size 432x288 with 1 Axes>"
      ]
     },
     "metadata": {
      "needs_background": "light"
     },
     "output_type": "display_data"
    }
   ],
   "source": [
    "import pylab as plt\n",
    "%matplotlib inline\n",
    "beta_sample = metropolis_sampler_base(n_sample=10**5)\n",
    "plt.hist(beta_sample, bins=50, density=True);\n",
    "x = np.arange(0,1,0.01)\n",
    "plt.plot(x, x*(1-x)**2*12)"
   ]
  },
  {
   "cell_type": "markdown",
   "metadata": {},
   "source": [
    "# Metropolis-Hastings sampling"
   ]
  },
  {
   "cell_type": "code",
   "execution_count": 23,
   "metadata": {
    "ExecuteTime": {
     "end_time": "2021-01-16T13:51:31.356321Z",
     "start_time": "2021-01-16T13:51:31.351742Z"
    }
   },
   "outputs": [],
   "source": [
    "def metropolis_sampler_with_exponential(\n",
    "    unnormalized_pdf=unnormalized_beta(2, 3), \n",
    "    n_sample=100,\n",
    "    x_0=0.5,\n",
    "    only_metropolis=False\n",
    "):\n",
    "    '''\n",
    "    When the detailed balance principle is not verified, we need to add a correction \n",
    "    term to take that into account\n",
    "    Args: \n",
    "        unnormalized_pdf: the unnormalized pdf we want to sample from \n",
    "        n_sample: the size of the sample to output\n",
    "        x_0: the starting point of the algo\n",
    "        with_correction: add the correction term to the acceptance ration or not  \n",
    "    '''\n",
    "    x = x_0\n",
    "    sample = [x]\n",
    "    for _ in range(n_sample):\n",
    "        x_prop = np.random.exponential(scale=x)\n",
    "        unif = np.random.uniform()\n",
    "        if x_prop:\n",
    "            x_trans =  x/x_prop - x_prop/x \n",
    "            correction = np.exp(-x_trans) * x/x_prop\n",
    "        if only_metropolis:\n",
    "            correction = 1\n",
    "        acceptance_ratio = unnormalized_pdf(x_prop)/unnormalized_pdf(x) * correction\n",
    "        if acceptance_ratio > unif:\n",
    "            x = x_prop\n",
    "        sample.append(x)\n",
    "    return sample"
   ]
  },
  {
   "cell_type": "code",
   "execution_count": 22,
   "metadata": {
    "ExecuteTime": {
     "end_time": "2021-01-16T13:50:52.733677Z",
     "start_time": "2021-01-16T13:50:49.019568Z"
    }
   },
   "outputs": [
    {
     "data": {
      "text/plain": [
       "[<matplotlib.lines.Line2D at 0x11e5e56a0>]"
      ]
     },
     "execution_count": 22,
     "metadata": {},
     "output_type": "execute_result"
    },
    {
     "data": {
      "image/png": "[encoded data removed]",
      "text/plain": [
       "<Figure size 720x360 with 2 Axes>"
      ]
     },
     "metadata": {
      "needs_background": "light"
     },
     "output_type": "display_data"
    }
   ],
   "source": [
    "x = np.arange(0,1,0.01)\n",
    "plt.figure(figsize=(10, 5))\n",
    "plt.subplot(1, 2, 1)\n",
    "beta_sample = metropolis_sampler_with_exponential(n_sample=10**5)\n",
    "plt.hist(beta_sample, bins=50, density=True, alpha=0.2);\n",
    "plt.title('Metropolis-Hastings Algorithm')\n",
    "plt.plot(x, x*(1-x)**2*12)\n",
    "\n",
    "plt.subplot(1, 2, 2)\n",
    "beta_sample_no_correc = metropolis_sampler_with_exponential(n_sample=10**5, only_metropolis=True)\n",
    "plt.hist(beta_sample_no_correc, bins=50, density=True, alpha=0.2);\n",
    "plt.title('Metropolis Algorithm')\n",
    "plt.plot(x, x*(1-x)**2*12)"
   ]
  },
  {
   "cell_type": "code",
   "execution_count": null,
   "metadata": {},
   "outputs": [],
   "source": []
  }
 ],
 "metadata": {
  "kernelspec": {
   "display_name": "Python 3",
   "language": "python",
   "name": "python3"
  },
  "language_info": {
   "codemirror_mode": {
    "name": "ipython",
    "version": 3
   },
   "file_extension": ".py",
   "mimetype": "text/x-python",
   "name": "python",
   "nbconvert_exporter": "python",
   "pygments_lexer": "ipython3",
   "version": "3.8.0"
  },
  "toc": {
   "base_numbering": 1,
   "nav_menu": {},
   "number_sections": true,
   "sideBar": true,
   "skip_h1_title": false,
   "title_cell": "Table of Contents",
   "title_sidebar": "Contents",
   "toc_cell": false,
   "toc_position": {},
   "toc_section_display": true,
   "toc_window_display": false
  }
 },
 "nbformat": 4,
 "nbformat_minor": 2
}
