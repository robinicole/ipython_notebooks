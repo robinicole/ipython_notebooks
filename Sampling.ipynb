{
 "cells": [
  {
   "cell_type": "markdown",
   "metadata": {},
   "source": [
    "# Metropolis sampling "
   ]
  },
  {
   "cell_type": "code",
   "execution_count": 4,
   "metadata": {},
   "outputs": [],
   "source": [
    "def UnnormalizedBeta(alpha, beta):\n",
    "    def beta_f(x):\n",
    "        if x < 0:\n",
    "            return 0\n",
    "        if x >1:\n",
    "            return 0\n",
    "        return x**(alpha-1) * (1-x)**(beta - 1)\n",
    "    return beta_f"
   ]
  },
  {
   "cell_type": "code",
   "execution_count": 5,
   "metadata": {},
   "outputs": [],
   "source": [
    "import numpy as np\n",
    "def MetropolisSampler(unnormalized_pdf=UnnormalizedBeta(2, 3), \n",
    "                      n_sample=100, x_0=0.5):\n",
    "    '''\n",
    "    First version of the metropolis sampler\n",
    "    args: \n",
    "    - unnormalized_pdf: the unnormalized pdf we want to sample from \n",
    "    - n_sample: the size of the sample to output\n",
    "    - x_0: the starting point of the algo\n",
    "    '''\n",
    "    x = x_0\n",
    "    sample = [x]\n",
    "    for _ in range(n_sample):\n",
    "        x_prop = np.random.normal(loc=x)\n",
    "        unif = np.random.uniform()\n",
    "        acceptance_ratio = unnormalized_pdf(x_prop)/unnormalized_pdf(x)\n",
    "        if acceptance_ratio > unif:\n",
    "            x = x_prop\n",
    "        sample.append(x)\n",
    "    return sample\n",
    "\n",
    "def MetropolisSamplerFaster(unnormalized_pdf=UnnormalizedBeta(2, 3), n_sample=100, x_0=0.5):\n",
    "    '''\n",
    "    Metropolis sampler. It is faster than the first version\n",
    "    because all the random number are generated before the for loop\n",
    "    args: \n",
    "    - unnormalized_pdf: the unnormalized pdf we want to sample from \n",
    "    - n_sample: the size of the sample to output\n",
    "    - x_0: the starting point of the algo\n",
    "    Possible things to improve:\n",
    "    directly provide the acceptance ratio instead of having to compute the \n",
    "    ratio every time\n",
    "    '''\n",
    "    x= x_0\n",
    "    sample = [x]\n",
    "    random_numbers = np.random.normal(size=n_sample)\n",
    "    unif_nums = np.random.uniform(size=n_sample)\n",
    "    for rnum, unif in zip(random_numbers, unif_nums):\n",
    "        x_prop = x + rnum\n",
    "        acceptance_ratio = unnormalized_pdf(x_prop)/unnormalized_pdf(x)\n",
    "        if acceptance_ratio > unif:\n",
    "            x = x_prop\n",
    "        sample.append(x)\n",
    "    return sample"
   ]
  },
  {
   "cell_type": "code",
   "execution_count": 6,
   "metadata": {},
   "outputs": [
    {
     "name": "stdout",
     "output_type": "stream",
     "text": [
      "582 ms ± 70.1 ms per loop (mean ± std. dev. of 7 runs, 1 loop each)\n",
      "1.26 s ± 29.3 ms per loop (mean ± std. dev. of 7 runs, 1 loop each)\n"
     ]
    }
   ],
   "source": [
    "%timeit MetropolisSamplerFaster(n_sample=10**5)\n",
    "%timeit MetropolisSampler(n_sample=10**5)"
   ]
  },
  {
   "cell_type": "code",
   "execution_count": 12,
   "metadata": {},
   "outputs": [],
   "source": [
    "beta_sample = MetropolisSampler(n_sample=10**5)"
   ]
  },
  {
   "cell_type": "code",
   "execution_count": 13,
   "metadata": {},
   "outputs": [
    {
     "data": {
      "text/plain": [
       "[<matplotlib.lines.Line2D at 0x108f25048>]"
      ]
     },
     "execution_count": 13,
     "metadata": {},
     "output_type": "execute_result"
    },
    {
     "data": {
      "image/png": "[encoded data removed]",
      "text/plain": [
       "<Figure size 432x288 with 1 Axes>"
      ]
     },
     "metadata": {
      "needs_background": "light"
     },
     "output_type": "display_data"
    }
   ],
   "source": [
    "import pylab as plt\n",
    "%matplotlib inline\n",
    "plt.hist(beta_sample, bins=50, normed=True);\n",
    "x = np.arange(0,1,0.01)\n",
    "plt.plot(x, x*(1-x)**2*12)"
   ]
  },
  {
   "cell_type": "markdown",
   "metadata": {},
   "source": [
    "# Metropolis-Hastings sampling"
   ]
  },
  {
   "cell_type": "code",
   "execution_count": 72,
   "metadata": {},
   "outputs": [],
   "source": [
    "def MetropolisHastingsSamplerWithExp(unnormalized_pdf=UnnormalizedBeta(2, 3), \n",
    "                      n_sample=100, x_0=0.5, only_metropolis=False):\n",
    "    '''\n",
    "    First version of the metropolis sampler\n",
    "    args: \n",
    "    - unnormalized_pdf: the unnormalized pdf we want to sample from \n",
    "    - n_sample: the size of the sample to output\n",
    "    - x_0: the starting point of the algo\n",
    "    - with_correction: \n",
    "    '''\n",
    "    x = x_0\n",
    "    sample = [x]\n",
    "    for _ in range(n_sample):\n",
    "        x_prop = np.random.exponential(scale=x)\n",
    "        unif = np.random.uniform()\n",
    "        if x_prop != 0:\n",
    "            x_trans =  x/x_prop - x_prop/x \n",
    "            correction = np.exp(-x_trans) * x/x_prop\n",
    "        else:\n",
    "            continue\n",
    "        if only_metropolis:\n",
    "            correction = 1\n",
    "        acceptance_ratio = unnormalized_pdf(x_prop)/unnormalized_pdf(x) * correction\n",
    "        if acceptance_ratio > unif:\n",
    "            x = x_prop\n",
    "        sample.append(x)\n",
    "    return sample"
   ]
  },
  {
   "cell_type": "code",
   "execution_count": 74,
   "metadata": {},
   "outputs": [
    {
     "data": {
      "text/plain": [
       "[<matplotlib.lines.Line2D at 0x116834710>]"
      ]
     },
     "execution_count": 74,
     "metadata": {},
     "output_type": "execute_result"
    },
    {
     "data": {
      "image/png": "[encoded data removed]",
      "text/plain": [
       "<Figure size 720x360 with 2 Axes>"
      ]
     },
     "metadata": {
      "needs_background": "light"
     },
     "output_type": "display_data"
    }
   ],
   "source": [
    "x = np.arange(0,1,0.01)\n",
    "plt.figure(figsize=(10, 5))\n",
    "plt.subplot(1, 2, 1)\n",
    "beta_sample = MetropolisHastingsSamplerWithExp(n_sample=10**5)\n",
    "plt.hist(beta_sample, bins=50, normed=True, alpha=0.2);\n",
    "plt.title('Metropolis-Hastings Algorithm')\n",
    "plt.plot(x, x*(1-x)**2*12)\n",
    "\n",
    "plt.subplot(1, 2, 2)\n",
    "beta_sample_no_correc = MetropolisHastingsSamplerWithExp(n_sample=10**5, only_metropolis=True)\n",
    "plt.hist(beta_sample_no_correc, bins=50, normed=True, alpha=0.2);\n",
    "plt.title('Metropolis Algorithm')\n",
    "plt.plot(x, x*(1-x)**2*12)"
   ]
  },
  {
   "cell_type": "code",
   "execution_count": null,
   "metadata": {},
   "outputs": [],
   "source": []
  }
 ],
 "metadata": {
  "kernelspec": {
   "display_name": "Python 3",
   "language": "python",
   "name": "python3"
  },
  "language_info": {
   "codemirror_mode": {
    "name": "ipython",
    "version": 3
   },
   "file_extension": ".py",
   "mimetype": "text/x-python",
   "name": "python",
   "nbconvert_exporter": "python",
   "pygments_lexer": "ipython3",
   "version": "3.7.1"
  }
 },
 "nbformat": 4,
 "nbformat_minor": 2
}
