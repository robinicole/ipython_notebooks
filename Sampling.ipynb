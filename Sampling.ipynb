{
 "cells": [
  {
   "cell_type": "markdown",
   "metadata": {},
   "source": [
    "# Some importance sampling"
   ]
  },
  {
   "cell_type": "code",
   "execution_count": 5,
   "metadata": {},
   "outputs": [
    {
     "data": {
      "text/plain": [
       "0.5"
      ]
     },
     "execution_count": 5,
     "metadata": {},
     "output_type": "execute_result"
    }
   ],
   "source": [
    "def UnnormalizedBeta(alpha, beta):\n",
    "    def beta_f(x):\n",
    "        if x < 0:\n",
    "            return 0\n",
    "        if x >1:\n",
    "            return 0\n",
    "        return x**(alpha-1) * (1-x)**(beta - 1)\n",
    "    return beta_f"
   ]
  },
  {
   "cell_type": "code",
   "execution_count": 6,
   "metadata": {},
   "outputs": [],
   "source": [
    "import numpy as np\n",
    "def MetropolisSampler(unnormalized_pdf=UnnormalizedBeta(2, 3), \n",
    "                      n_sample=100, x_0=0.5):\n",
    "    '''\n",
    "    First version of the metropolis sampler\n",
    "    args: \n",
    "    - unnormalized_pdf: the unnormalized pdf we want to sample from \n",
    "    - n_sample: the size of the sample to output\n",
    "    - x_0: the starting point of the algo\n",
    "    '''\n",
    "    x = x_0\n",
    "    sample = [x]\n",
    "    for _ in range(n_sample):\n",
    "        x_prop = np.random.normal(loc=x)\n",
    "        unif = np.random.uniform()\n",
    "        acceptance_ratio = unnormalized_pdf(x_prop)/unnormalized_pdf(x)\n",
    "        if acceptance_ratio > unif:\n",
    "            x = x_prop\n",
    "        sample.append(x)\n",
    "    return sample\n",
    "\n",
    "def MetropolisSamplerFaster(unnormalized_pdf=UnnormalizedBeta(2, 3), n_sample=100, x_0=0.5):\n",
    "    '''\n",
    "    Metropolis sampler. It is faster than the first version\n",
    "    because all the random number are generated before the for loop\n",
    "    args: \n",
    "    - unnormalized_pdf: the unnormalized pdf we want to sample from \n",
    "    - n_sample: the size of the sample to output\n",
    "    - x_0: the starting point of the algo\n",
    "    Possible things to improve:\n",
    "    directly provide the acceptance ratio instead of having to compute the \n",
    "    ratio every time\n",
    "    '''\n",
    "    x= x_0\n",
    "    sample = [x]\n",
    "    random_numbers = np.random.normal(size=n_sample)\n",
    "    unif_nums = np.random.uniform(size=n_sample)\n",
    "    for rnum, unif in zip(random_numbers, unif_nums):\n",
    "        x_prop = x + rnum\n",
    "        acceptance_ratio = unnormalized_pdf(x_prop)/unnormalized_pdf(x)\n",
    "        if acceptance_ratio > unif:\n",
    "            x = x_prop\n",
    "        sample.append(x)\n",
    "    return sample"
   ]
  },
  {
   "cell_type": "code",
   "execution_count": 10,
   "metadata": {},
   "outputs": [
    {
     "name": "stdout",
     "output_type": "stream",
     "text": [
      "237 ms ± 11.6 ms per loop (mean ± std. dev. of 7 runs, 1 loop each)\n",
      "343 ms ± 15.1 ms per loop (mean ± std. dev. of 7 runs, 1 loop each)\n"
     ]
    }
   ],
   "source": [
    "%timeit MetropolisSamplerFaster(n_sample=10**5)\n",
    "%timeit MetropolisSampler(n_sample=10**5)"
   ]
  },
  {
   "cell_type": "code",
   "execution_count": 18,
   "metadata": {},
   "outputs": [],
   "source": [
    "beta_sample = MetropolisSamplerFaster(n_sample=10**6)"
   ]
  },
  {
   "cell_type": "code",
   "execution_count": 21,
   "metadata": {},
   "outputs": [
    {
     "data": {
      "text/plain": [
       "[<matplotlib.lines.Line2D at 0x1193761d0>]"
      ]
     },
     "execution_count": 21,
     "metadata": {},
     "output_type": "execute_result"
    },
    {
     "data": {
      "image/png": "[encoded data removed]",
      "text/plain": [
       "<Figure size 432x288 with 1 Axes>"
      ]
     },
     "metadata": {
      "needs_background": "light"
     },
     "output_type": "display_data"
    }
   ],
   "source": [
    "import pylab as plt\n",
    "%matplotlib inline\n",
    "plt.hist(beta_sample, bins=50, normed=True);\n",
    "x = np.arange(0,1,0.01)\n",
    "plt.plot(x, x*(1-x)**2*12)"
   ]
  },
  {
   "cell_type": "code",
   "execution_count": null,
   "metadata": {},
   "outputs": [],
   "source": []
  }
 ],
 "metadata": {
  "kernelspec": {
   "display_name": "Python 3",
   "language": "python",
   "name": "python3"
  },
  "language_info": {
   "codemirror_mode": {
    "name": "ipython",
    "version": 3
   },
   "file_extension": ".py",
   "mimetype": "text/x-python",
   "name": "python",
   "nbconvert_exporter": "python",
   "pygments_lexer": "ipython3",
   "version": "3.7.0"
  }
 },
 "nbformat": 4,
 "nbformat_minor": 2
}
