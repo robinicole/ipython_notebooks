{
 "cells": [
  {
   "cell_type": "markdown",
   "metadata": {},
   "source": [
    "# Getting familiar with quantile regression"
   ]
  },
  {
   "cell_type": "markdown",
   "metadata": {},
   "source": [
    "Let's build a neural network which will fit the quantiles of a gaussian distribution"
   ]
  },
  {
   "cell_type": "markdown",
   "metadata": {},
   "source": [
    "## Creating the neural network to fit the qantiles"
   ]
  },
  {
   "cell_type": "code",
   "execution_count": 2,
   "metadata": {},
   "outputs": [],
   "source": [
    "import torch\n",
    "import torch.nn as nn\n",
    "import torch.nn.functional as F\n",
    "import torch.optim  as optim\n",
    "class Net(nn.Module):\n",
    "    def __init__(self):\n",
    "        super(Net, self).__init__()\n",
    "        # 1 input image channel, 6 output channels, 5x5 square convolution\n",
    "        # kernel\n",
    "        self.fc1 = nn.Linear(2, 10)\n",
    "        self.fc2 = nn.Linear(10, 10)\n",
    "        self.fc3 = nn.Linear(10, 9)\n",
    "    def forward(self, x):\n",
    "        # Max pooling over a (2, 2) window\n",
    "        x = self.fc1(x)\n",
    "        x = self.fc2(x)\n",
    "        x = self.fc3(x)\n",
    "        return x"
   ]
  },
  {
   "cell_type": "markdown",
   "metadata": {},
   "source": [
    "## Generate a sample to fit\n",
    "- $X = (x_1,  x_2)$\n",
    "- $Y \\sim x_1 + 2 x_2 + 1 \\epsilon$\n",
    "with $\\epsilon \\sim \\mathcal{N}(0,1)$"
   ]
  },
  {
   "cell_type": "code",
   "execution_count": 4,
   "metadata": {},
   "outputs": [],
   "source": [
    "import numpy as np\n",
    "Nsample = 10**6\n",
    "X = torch.rand(Nsample,2, dtype=torch.float32)\n",
    "W = torch.tensor([[1], [2]], dtype=torch.float32)\n",
    "noise = torch.randn(Nsample,1, dtype=torch.float32)\n",
    "Y = torch.mm(X, W) + noise\n",
    "\n",
    "X_test = torch.rand(Nsample,2, dtype=torch.float32)\n",
    "W_test = torch.tensor([[1], [2]], dtype=torch.float32)\n",
    "noise_test = torch.randn(Nsample,1, dtype=torch.float32)\n",
    "Y_test = torch.mm(X, W) + noise"
   ]
  },
  {
   "cell_type": "markdown",
   "metadata": {},
   "source": [
    "The pinball loss between an estimator $z$ and a target variable $y$ is \n",
    "\n",
    "$$ \\text{Loss}(z, y) = \\sum_i \\max (y - z , 0) q_i + \\max (z - y , 0) (1 - q_i) $$\n",
    "\n",
    "where the $\\{q_i\\}$ are a list of quantiles. "
   ]
  },
  {
   "cell_type": "code",
   "execution_count": 6,
   "metadata": {},
   "outputs": [
    {
     "name": "stdout",
     "output_type": "stream",
     "text": [
      "real value shape torch.Size([1000000, 1])\n",
      "output shape torch.Size([1000000, 9])\n"
     ]
    }
   ],
   "source": [
    "net = Net()\n",
    "def PinballLoss(qtiles, epsilon=1):\n",
    "    def Loss(real_value, nn_output):\n",
    "        ordering_term = torch.mean(torch.max(nn_output[:,:-1] - nn_output[:,1:], torch.zeros_like(nn_output[:,1:])))\n",
    "        error = real_value * torch.ones_like(nn_output) - nn_output \n",
    "        qp = torch.max(error, torch.zeros_like(error)) * qtiles\n",
    "        qm = torch.max(- error, torch.zeros_like(error)) * (1 - qtiles)\n",
    "        return torch.mean(qp + qm) + epsilon * ordering_term\n",
    "    return Loss\n",
    "print('real value shape', Y.shape)\n",
    "print('output shape', net(X).shape)\n",
    "qtiles = np.arange(0.1,1,0.1)\n",
    "tensor_qtiles = torch.tensor(qtiles, dtype=torch.float32)\n",
    "output = torch.tensor(np.array([qtiles, qtiles]),\n",
    "                      dtype=torch.float32)\n",
    "real_value = torch.tensor([[1],[2]], dtype=torch.float32)\n",
    "assert output.shape == (2, 9)\n",
    "assert real_value.shape == (2, 1)\n",
    "assert tensor_qtiles.shape == torch.Size([9])\n",
    "loss = PinballLoss(qtiles=tensor_qtiles)"
   ]
  },
  {
   "cell_type": "code",
   "execution_count": 12,
   "metadata": {},
   "outputs": [
    {
     "name": "stdout",
     "output_type": "stream",
     "text": [
      "epoch 0 \n",
      "\n",
      "tensor(0.9982, grad_fn=<ThAddBackward>)\n",
      "epoch 100 \n",
      "\n",
      "tensor(0.6323, grad_fn=<ThAddBackward>)\n",
      "epoch 200 \n",
      "\n",
      "tensor(0.3328, grad_fn=<ThAddBackward>)\n",
      "epoch 300 \n",
      "\n",
      "tensor(0.3264, grad_fn=<ThAddBackward>)\n",
      "epoch 400 \n",
      "\n",
      "tensor(0.3206, grad_fn=<ThAddBackward>)\n"
     ]
    }
   ],
   "source": [
    "net = Net()\n",
    "criterion = PinballLoss(tensor_qtiles)\n",
    "optimizer = optim.Adam(net.parameters(), \n",
    "                       lr=0.001, betas=(0.9, 0.999), weight_decay=0.0, amsgrad=False)\n",
    "for n_epoch in range(500):    \n",
    "    total_loss = []\n",
    "    intermediate_loss = []\n",
    "    optimizer.zero_grad()\n",
    "    inp = X\n",
    "    output = net(inp)\n",
    "    loss = criterion(Y, output)\n",
    "    loss.backward()\n",
    "    total_loss.append(float(loss.detach().cpu().numpy()))\n",
    "    intermediate_loss.append(float(loss.detach().cpu().numpy()))\n",
    "    optimizer.step()\n",
    "    if n_epoch% 100 == 0: \n",
    "        print('epoch {} \\n'.format(n_epoch))\n",
    "        print(loss)"
   ]
  },
  {
   "cell_type": "markdown",
   "metadata": {},
   "source": [
    "## Did we get the quantiles we were looking for "
   ]
  },
  {
   "cell_type": "code",
   "execution_count": 27,
   "metadata": {},
   "outputs": [
    {
     "data": {
      "text/plain": [
       "<matplotlib.legend.Legend at 0x13129dfd0>"
      ]
     },
     "execution_count": 27,
     "metadata": {},
     "output_type": "execute_result"
    },
    {
     "data": {
      "image/png": "[encoded data removed]",
      "text/plain": [
       "<Figure size 432x288 with 1 Axes>"
      ]
     },
     "metadata": {
      "needs_background": "light"
     },
     "output_type": "display_data"
    }
   ],
   "source": [
    "from scipy.stats import norm\n",
    "import pylab as plt\n",
    "%matplotlib inline\n",
    "to_analyse = (net(X) - torch.mm(X, W) ).detach().numpy()\n",
    "plt.scatter(np.arange(0.1, 1, 0.1), \n",
    "            to_analyse.mean(axis=0), \n",
    "           label='fitted_quantiles')\n",
    "xv = np.arange(0.01,1,0.01)\n",
    "plt.plot(xv, norm.ppf(xv), label='real quantiles', ls='--')\n",
    "plt.legend(loc='best')"
   ]
  }
 ],
 "metadata": {
  "kernelspec": {
   "display_name": "Python 3",
   "language": "python",
   "name": "python3"
  },
  "language_info": {
   "codemirror_mode": {
    "name": "ipython",
    "version": 3
   },
   "file_extension": ".py",
   "mimetype": "text/x-python",
   "name": "python",
   "nbconvert_exporter": "python",
   "pygments_lexer": "ipython3",
   "version": "3.8.0"
  },
  "toc": {
   "base_numbering": 1,
   "nav_menu": {},
   "number_sections": true,
   "sideBar": true,
   "skip_h1_title": false,
   "title_cell": "Table of Contents",
   "title_sidebar": "Contents",
   "toc_cell": false,
   "toc_position": {},
   "toc_section_display": true,
   "toc_window_display": false
  }
 },
 "nbformat": 4,
 "nbformat_minor": 2
}
